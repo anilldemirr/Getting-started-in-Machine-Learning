{
 "cells": [
  {
   "cell_type": "code",
   "execution_count": 4,
   "id": "ef8d6ccf-1091-407b-9dbb-3ff9a0af9b88",
   "metadata": {},
   "outputs": [
    {
     "data": {
      "text/plain": [
       "'2.2.2'"
      ]
     },
     "execution_count": 4,
     "metadata": {},
     "output_type": "execute_result"
    }
   ],
   "source": [
    "import numpy as np\n",
    "np.__version__"
   ]
  },
  {
   "cell_type": "markdown",
   "id": "531986b3-098f-4f3d-87af-c72bdb8feb94",
   "metadata": {},
   "source": [
    "Python listesinden Numpy arrayi oluşturma"
   ]
  },
  {
   "cell_type": "code",
   "execution_count": 6,
   "id": "111fe004-9ca5-40d7-b12d-323f1317a198",
   "metadata": {},
   "outputs": [
    {
     "data": {
      "text/plain": [
       "array([1, 4, 2, 5, 3])"
      ]
     },
     "execution_count": 6,
     "metadata": {},
     "output_type": "execute_result"
    }
   ],
   "source": [
    "np.array([1,4,2,5,3])"
   ]
  },
  {
   "cell_type": "markdown",
   "id": "1398fdd7-28da-478d-a6e9-51358beb1969",
   "metadata": {},
   "source": [
    "NpArrayin tipini baştan belirleyebiliriz"
   ]
  },
  {
   "cell_type": "code",
   "execution_count": 7,
   "id": "2ca72298-1b7a-4cf7-b84d-c56edef8f2be",
   "metadata": {},
   "outputs": [
    {
     "data": {
      "text/plain": [
       "array([1., 4., 2., 5., 3.], dtype=float32)"
      ]
     },
     "execution_count": 7,
     "metadata": {},
     "output_type": "execute_result"
    }
   ],
   "source": [
    "np.array([1,4,2,5,3], dtype='float32')"
   ]
  },
  {
   "cell_type": "markdown",
   "id": "7a6767ad-20e1-4216-9d92-5c547cbf24ab",
   "metadata": {},
   "source": [
    "Numpy ile multidimensional array tanımlama"
   ]
  },
  {
   "cell_type": "code",
   "execution_count": 8,
   "id": "edd699df-0015-4900-ac32-76d619a6e6ee",
   "metadata": {},
   "outputs": [
    {
     "data": {
      "text/plain": [
       "array([[2, 3, 4],\n",
       "       [4, 5, 6],\n",
       "       [6, 7, 8]])"
      ]
     },
     "execution_count": 8,
     "metadata": {},
     "output_type": "execute_result"
    }
   ],
   "source": [
    "np.array([range(i,i+3) for i in [2,4,6]])"
   ]
  },
  {
   "cell_type": "markdown",
   "id": "725366f8-8274-49c4-bb7b-66ceafde37e6",
   "metadata": {},
   "source": [
    "NOTE: Nested listeler otomatik olarak multidimensional olur"
   ]
  },
  {
   "cell_type": "code",
   "execution_count": 9,
   "id": "53d69d81-127a-42d1-aacb-ab134e4ac12f",
   "metadata": {},
   "outputs": [
    {
     "data": {
      "text/plain": [
       "array([[3.14, 3.14, 3.14, 3.14, 3.14],\n",
       "       [3.14, 3.14, 3.14, 3.14, 3.14],\n",
       "       [3.14, 3.14, 3.14, 3.14, 3.14]])"
      ]
     },
     "execution_count": 9,
     "metadata": {},
     "output_type": "execute_result"
    }
   ],
   "source": [
    "np.full((3,5),3.14)"
   ]
  },
  {
   "cell_type": "code",
   "execution_count": 11,
   "id": "ce36cbe8-dcc8-4ee0-b09e-96c2f26e5642",
   "metadata": {},
   "outputs": [
    {
     "data": {
      "text/plain": [
       "array([[1., 1., 1., 1., 1.],\n",
       "       [1., 1., 1., 1., 1.],\n",
       "       [1., 1., 1., 1., 1.]])"
      ]
     },
     "execution_count": 11,
     "metadata": {},
     "output_type": "execute_result"
    }
   ],
   "source": [
    "np.ones((3,5))"
   ]
  },
  {
   "cell_type": "code",
   "execution_count": 17,
   "id": "0798e0a2-db5c-4ec9-bc26-4ceda2b76984",
   "metadata": {},
   "outputs": [
    {
     "data": {
      "text/plain": [
       "array([1, 2, 3])"
      ]
     },
     "execution_count": 17,
     "metadata": {},
     "output_type": "execute_result"
    }
   ],
   "source": [
    "x = np.array([1,2,3])\n",
    "x"
   ]
  },
  {
   "cell_type": "code",
   "execution_count": 22,
   "id": "e8ca6cdd-fbc8-4273-adaa-43b47d28d410",
   "metadata": {},
   "outputs": [
    {
     "data": {
      "text/plain": [
       "array([[1],\n",
       "       [2],\n",
       "       [3]])"
      ]
     },
     "execution_count": 22,
     "metadata": {},
     "output_type": "execute_result"
    }
   ],
   "source": [
    "x[: ,np.newaxis]"
   ]
  },
  {
   "cell_type": "code",
   "execution_count": 29,
   "id": "ca4d0ef3-484b-4a8a-b75d-e2f0e1ab92ac",
   "metadata": {},
   "outputs": [],
   "source": [
    "np.random.seed(0)\n",
    "\n",
    "def compute_reciprocals(values):\n",
    " output = np.empty(len(values))\n",
    " for i in range(len(values)):\n",
    "     output[i] = 1.0 / values[i]\n",
    " return output\n",
    "\n",
    "    \n",
    " values = np.random.randint(1, 10, size=5)\n",
    " compute_reciprocals(values)"
   ]
  },
  {
   "cell_type": "code",
   "execution_count": 31,
   "id": "64f04dfb-3a91-410c-9d99-17f6df19cc79",
   "metadata": {},
   "outputs": [
    {
     "name": "stdout",
     "output_type": "stream",
     "text": [
      "4.68 s ± 176 ms per loop (mean ± std. dev. of 7 runs, 1 loop each)\n"
     ]
    }
   ],
   "source": [
    "big_array = np.random.randint(1, 100, size=1000000)\n",
    "%timeit compute_reciprocals(big_array)"
   ]
  },
  {
   "cell_type": "code",
   "execution_count": 39,
   "id": "498a124e-ca18-4916-9538-b96d987d5a0b",
   "metadata": {},
   "outputs": [
    {
     "name": "stdout",
     "output_type": "stream",
     "text": [
      "<class 'numpy.int32'>\n"
     ]
    }
   ],
   "source": [
    "print(type(big_array.min()))"
   ]
  },
  {
   "cell_type": "code",
   "execution_count": 54,
   "id": "1b2ff9cc-1baf-402c-9eba-aac8c5de758e",
   "metadata": {},
   "outputs": [
    {
     "name": "stdout",
     "output_type": "stream",
     "text": [
      "Help on _ArrayFunctionDispatcher in module numpy:\n",
      "\n",
      "zeros_like(a, dtype=None, order='K', subok=True, shape=None, *, device=None)\n",
      "    Return an array of zeros with the same shape and type as a given array.\n",
      "\n",
      "    Parameters\n",
      "    ----------\n",
      "    a : array_like\n",
      "        The shape and data-type of `a` define these same attributes of\n",
      "        the returned array.\n",
      "    dtype : data-type, optional\n",
      "        Overrides the data type of the result.\n",
      "    order : {'C', 'F', 'A', or 'K'}, optional\n",
      "        Overrides the memory layout of the result. 'C' means C-order,\n",
      "        'F' means F-order, 'A' means 'F' if `a` is Fortran contiguous,\n",
      "        'C' otherwise. 'K' means match the layout of `a` as closely\n",
      "        as possible.\n",
      "    subok : bool, optional.\n",
      "        If True, then the newly created array will use the sub-class\n",
      "        type of `a`, otherwise it will be a base-class array. Defaults\n",
      "        to True.\n",
      "    shape : int or sequence of ints, optional.\n",
      "        Overrides the shape of the result. If order='K' and the number of\n",
      "        dimensions is unchanged, will try to keep order, otherwise,\n",
      "        order='C' is implied.\n",
      "    device : str, optional\n",
      "        The device on which to place the created array. Default: None.\n",
      "        For Array-API interoperability only, so must be ``\"cpu\"`` if passed.\n",
      "\n",
      "        .. versionadded:: 2.0.0\n",
      "\n",
      "    Returns\n",
      "    -------\n",
      "    out : ndarray\n",
      "        Array of zeros with the same shape and type as `a`.\n",
      "\n",
      "    See Also\n",
      "    --------\n",
      "    empty_like : Return an empty array with shape and type of input.\n",
      "    ones_like : Return an array of ones with shape and type of input.\n",
      "    full_like : Return a new array with shape of input filled with value.\n",
      "    zeros : Return a new array setting values to zero.\n",
      "\n",
      "    Examples\n",
      "    --------\n",
      "    >>> import numpy as np\n",
      "    >>> x = np.arange(6)\n",
      "    >>> x = x.reshape((2, 3))\n",
      "    >>> x\n",
      "    array([[0, 1, 2],\n",
      "           [3, 4, 5]])\n",
      "    >>> np.zeros_like(x)\n",
      "    array([[0, 0, 0],\n",
      "           [0, 0, 0]])\n",
      "\n",
      "    >>> y = np.arange(3, dtype=float)\n",
      "    >>> y\n",
      "    array([0., 1., 2.])\n",
      "    >>> np.zeros_like(y)\n",
      "    array([0.,  0.,  0.])\n",
      "\n"
     ]
    }
   ],
   "source": [
    "help(np.zeros_like)"
   ]
  },
  {
   "cell_type": "code",
   "execution_count": 55,
   "id": "03731814-1873-4c31-a7cc-70c6a81665d8",
   "metadata": {},
   "outputs": [
    {
     "name": "stdout",
     "output_type": "stream",
     "text": [
      "Help on _ArrayFunctionDispatcher in module numpy:\n",
      "\n",
      "searchsorted(a, v, side='left', sorter=None)\n",
      "    Find indices where elements should be inserted to maintain order.\n",
      "\n",
      "    Find the indices into a sorted array `a` such that, if the\n",
      "    corresponding elements in `v` were inserted before the indices, the\n",
      "    order of `a` would be preserved.\n",
      "\n",
      "    Assuming that `a` is sorted:\n",
      "\n",
      "    ======  ============================\n",
      "    `side`  returned index `i` satisfies\n",
      "    ======  ============================\n",
      "    left    ``a[i-1] < v <= a[i]``\n",
      "    right   ``a[i-1] <= v < a[i]``\n",
      "    ======  ============================\n",
      "\n",
      "    Parameters\n",
      "    ----------\n",
      "    a : 1-D array_like\n",
      "        Input array. If `sorter` is None, then it must be sorted in\n",
      "        ascending order, otherwise `sorter` must be an array of indices\n",
      "        that sort it.\n",
      "    v : array_like\n",
      "        Values to insert into `a`.\n",
      "    side : {'left', 'right'}, optional\n",
      "        If 'left', the index of the first suitable location found is given.\n",
      "        If 'right', return the last such index.  If there is no suitable\n",
      "        index, return either 0 or N (where N is the length of `a`).\n",
      "    sorter : 1-D array_like, optional\n",
      "        Optional array of integer indices that sort array a into ascending\n",
      "        order. They are typically the result of argsort.\n",
      "\n",
      "    Returns\n",
      "    -------\n",
      "    indices : int or array of ints\n",
      "        Array of insertion points with the same shape as `v`,\n",
      "        or an integer if `v` is a scalar.\n",
      "\n",
      "    See Also\n",
      "    --------\n",
      "    sort : Return a sorted copy of an array.\n",
      "    histogram : Produce histogram from 1-D data.\n",
      "\n",
      "    Notes\n",
      "    -----\n",
      "    Binary search is used to find the required insertion points.\n",
      "\n",
      "    As of NumPy 1.4.0 `searchsorted` works with real/complex arrays containing\n",
      "    `nan` values. The enhanced sort order is documented in `sort`.\n",
      "\n",
      "    This function uses the same algorithm as the builtin python\n",
      "    `bisect.bisect_left` (``side='left'``) and `bisect.bisect_right`\n",
      "    (``side='right'``) functions, which is also vectorized\n",
      "    in the `v` argument.\n",
      "\n",
      "    Examples\n",
      "    --------\n",
      "    >>> import numpy as np\n",
      "    >>> np.searchsorted([11,12,13,14,15], 13)\n",
      "    2\n",
      "    >>> np.searchsorted([11,12,13,14,15], 13, side='right')\n",
      "    3\n",
      "    >>> np.searchsorted([11,12,13,14,15], [-10, 20, 12, 13])\n",
      "    array([0, 5, 1, 2])\n",
      "\n",
      "    When `sorter` is used, the returned indices refer to the sorted\n",
      "    array of `a` and not `a` itself:\n",
      "\n",
      "    >>> a = np.array([40, 10, 20, 30])\n",
      "    >>> sorter = np.argsort(a)\n",
      "    >>> sorter\n",
      "    array([1, 2, 3, 0])  # Indices that would sort the array 'a'\n",
      "    >>> result = np.searchsorted(a, 25, sorter=sorter)\n",
      "    >>> result\n",
      "    2\n",
      "    >>> a[sorter[result]]\n",
      "    30  # The element at index 2 of the sorted array is 30.\n",
      "\n"
     ]
    }
   ],
   "source": [
    "help( np.searchsorted)"
   ]
  },
  {
   "cell_type": "code",
   "execution_count": 9,
   "id": "1f37801d-4dc0-4429-9fd7-f4890eb51419",
   "metadata": {},
   "outputs": [
    {
     "name": "stdout",
     "output_type": "stream",
     "text": [
      "[('name', '<U10'), ('age', '<i4'), ('weight', '<f8')]\n",
      "[('', 0, 0.) ('', 0, 0.) ('', 0, 0.) ('', 0, 0.)]\n"
     ]
    }
   ],
   "source": [
    "data = np.zeros(4, dtype={'names':('name', 'age', 'weight'),'formats':('U10', 'i4', 'f8')})\n",
    "print(data.dtype)\n",
    "print(data)"
   ]
  },
  {
   "cell_type": "code",
   "execution_count": null,
   "id": "a1d57dde-de79-416b-9c35-e0b892dc1b70",
   "metadata": {},
   "outputs": [],
   "source": []
  }
 ],
 "metadata": {
  "kernelspec": {
   "display_name": "Python 3 (ipykernel)",
   "language": "python",
   "name": "python3"
  },
  "language_info": {
   "codemirror_mode": {
    "name": "ipython",
    "version": 3
   },
   "file_extension": ".py",
   "mimetype": "text/x-python",
   "name": "python",
   "nbconvert_exporter": "python",
   "pygments_lexer": "ipython3",
   "version": "3.12.2"
  }
 },
 "nbformat": 4,
 "nbformat_minor": 5
}
