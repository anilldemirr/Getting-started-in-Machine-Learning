{
 "cells": [
  {
   "cell_type": "markdown",
   "id": "a0c95a8b-4ae4-4f47-8a09-fc29c058203d",
   "metadata": {},
   "source": [
    "**Example: What Is the Average Height of US Presidents?**"
   ]
  },
  {
   "cell_type": "code",
   "execution_count": 4,
   "id": "26066eb7-207c-4313-b3db-f4fecc773af1",
   "metadata": {},
   "outputs": [
    {
     "name": "stdout",
     "output_type": "stream",
     "text": [
      "[189 170 189 163 183 171 185 168 173 183 173 173 175 178 183 193 178 173\n",
      " 174 183 183 168 170 178 182 180 183 178 182 188 175 179 183 193 182 183\n",
      " 177 185 188 188 182 185 191 182]\n"
     ]
    }
   ],
   "source": [
    "#I must use a little pandas here to take the data\n",
    "import pandas as pd\n",
    "import numpy as np\n",
    "data = pd.read_csv('PythonDataScienceHandbook/notebooks/data/president_heights.csv')\n",
    "heights = np.array(data['height(cm)'])\n",
    "print(heights)"
   ]
  },
  {
   "cell_type": "markdown",
   "id": "780943cd-57ee-4427-a14b-fb75ff0878eb",
   "metadata": {},
   "source": [
    "Variety of summary statistics:"
   ]
  },
  {
   "cell_type": "code",
   "execution_count": 6,
   "id": "5b683d7f-25b8-408f-bb30-ccd9cac3c5b5",
   "metadata": {},
   "outputs": [
    {
     "name": "stdout",
     "output_type": "stream",
     "text": [
      "Mean height:        180.04545454545453\n",
      "Standart devision:  6.983599441335736\n",
      "Minimum height:     163\n",
      "Maximum height:     193\n"
     ]
    }
   ],
   "source": [
    "print(\"Mean height:       \", heights.mean())\n",
    "print(\"Standart devision: \", heights.std())\n",
    "print(\"Minimum height:    \", heights.min())\n",
    "print(\"Maximum height:    \", heights.max())"
   ]
  },
  {
   "cell_type": "markdown",
   "id": "8c1e945f-6beb-4732-baa5-dd768308129d",
   "metadata": {},
   "source": [
    "Aggregation operations"
   ]
  },
  {
   "cell_type": "code",
   "execution_count": 11,
   "id": "3b8c8d57-3fdb-47f3-9b1c-9ae9719115b8",
   "metadata": {},
   "outputs": [
    {
     "name": "stdout",
     "output_type": "stream",
     "text": [
      "25th percentile:  174.75\n",
      "Median            182.0\n",
      "75th percentile   183.5\n"
     ]
    }
   ],
   "source": [
    "print(\"25th percentile: \" , np.percentile(heights, 25))\n",
    "print(\"Median           \" , np.median(heights))\n",
    "print(\"75th percentile  \" , np.percentile(heights, 75))"
   ]
  },
  {
   "cell_type": "code",
   "execution_count": 23,
   "id": "5cdbeb5f-b787-4f6c-a911-7bc76977b923",
   "metadata": {},
   "outputs": [
    {
     "data": {
      "text/plain": [
       "Text(0, 0.5, 'number')"
      ]
     },
     "execution_count": 23,
     "metadata": {},
     "output_type": "execute_result"
    },
    {
     "data": {
      "image/png": "[encoded data removed]",
      "text/plain": [
       "<Figure size 640x480 with 1 Axes>"
      ]
     },
     "metadata": {},
     "output_type": "display_data"
    }
   ],
   "source": [
    "#I am using a little matplotlib and seaborn here to have visualition\n",
    "import matplotlib.pyplot as plt\n",
    "import seaborn; seaborn.set()\n",
    "\n",
    "plt.hist(heights)\n",
    "plt.title('Height Distribution of US President')\n",
    "plt.xlabel('height (cm)')\n",
    "plt.ylabel('number')"
   ]
  },
  {
   "cell_type": "code",
   "execution_count": null,
   "id": "4b7fed65-acd9-4938-9e80-49a142c5d48a",
   "metadata": {},
   "outputs": [],
   "source": []
  }
 ],
 "metadata": {
  "kernelspec": {
   "display_name": "Python 3 (ipykernel)",
   "language": "python",
   "name": "python3"
  },
  "language_info": {
   "codemirror_mode": {
    "name": "ipython",
    "version": 3
   },
   "file_extension": ".py",
   "mimetype": "text/x-python",
   "name": "python",
   "nbconvert_exporter": "python",
   "pygments_lexer": "ipython3",
   "version": "3.12.2"
  }
 },
 "nbformat": 4,
 "nbformat_minor": 5
}
